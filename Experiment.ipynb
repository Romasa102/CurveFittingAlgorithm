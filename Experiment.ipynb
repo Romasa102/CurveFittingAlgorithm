{
 "cells": [
  {
   "cell_type": "code",
   "execution_count": 103,
   "id": "initial_id",
   "metadata": {
    "collapsed": true,
    "ExecuteTime": {
     "end_time": "2024-08-14T04:00:50.593547Z",
     "start_time": "2024-08-14T04:00:50.560226Z"
    }
   },
   "outputs": [],
   "source": [
    "import jax.numpy as jnp\n",
    "import numpy as np\n",
    "from jax import grad, hessian\n",
    "from jax import jit"
   ]
  },
  {
   "cell_type": "code",
   "outputs": [],
   "source": [
    "GlobalSeed = 4\n",
    "ErrorsLevel = 10\n",
    "FunctionComplexity = 5\n",
    "Degree = 10"
   ],
   "metadata": {
    "collapsed": false,
    "ExecuteTime": {
     "end_time": "2024-08-14T04:00:50.594537Z",
     "start_time": "2024-08-14T04:00:50.563712Z"
    }
   },
   "id": "f8d6543524b70194",
   "execution_count": 104
  },
  {
   "cell_type": "code",
   "outputs": [],
   "source": [
    "np.random.seed(GlobalSeed)\n",
    "def predict(params,x):\n",
    "    if(Degree == 10):\n",
    "        return params[0] + params[1] * x + params[2] * x ** 2 + params[3] * x ** 3 + params[4] * x ** 4 + params[5] * x ** 5 + params[6] * x ** 6 + params[7] * x ** 7 + params[8] * x ** 8 + params[9] * x ** 9 + params[10] * x ** 10\n",
    "    elif(Degree == 3):\n",
    "        return params[0] + params[1] * x + params[2] * x ** 2 + params[3] * x ** 3\n",
    "def generate_points(params,n, error):\n",
    "    X = np.random.rand(n)\n",
    "    Y = predict(params,X) + error*np.random.randn(n)\n",
    "    return X, Y\n",
    "params = np.random.rand(Degree + 1)*FunctionComplexity\n",
    "X, Y = generate_points(params,100, 1.5)\n",
    "X_org = jnp.linspace(min(X), max(X), 100)\n",
    "Y_org = predict(params,X_org)\n",
    "def loss(params, X, Y):\n",
    "    predictions = predict(params, X)\n",
    "    return jnp.mean((predictions - Y) ** 2)\n",
    "grad_loss = jit(grad(loss))\n",
    "hessian_loss = hessian(loss)\n",
    "def newton_method(X, Y, num_iterations=10):\n",
    "    params = np.zeros(Degree + 1)\n",
    "    for i in range(num_iterations):\n",
    "        grad_l = grad_loss(params, X, Y)\n",
    "        hess_l = hessian_loss(params, X, Y)\n",
    "        params_new = params - jnp.linalg.solve(hess_l, grad_l)\n",
    "        params = params_new\n",
    "    return params\n",
    "def showNewton(X, Y):\n",
    "    params = newton_method(X, Y)\n",
    "    error = Y - predict(params, X)\n",
    "    X_fit = jnp.linspace(min(X), max(X), 100)\n",
    "    Y_fit = predict(params, X_fit)\n",
    "    return X_fit,Y_fit,error\n",
    "def AddOutliers(X, Y):\n",
    "    np.random.seed(GlobalSeed)\n",
    "    std_dev = np.std(Y)\n",
    "    X_outliers = np.random.rand(5)\n",
    "    Y_outliers = predict(params, X_outliers) + np.random.uniform(-ErrorsLevel * std_dev, ErrorsLevel * std_dev, len(X_outliers))\n",
    "    X_ol = np.concatenate((X, X_outliers))\n",
    "    Y_ol = np.concatenate((Y, Y_outliers))\n",
    "    return X_ol, Y_ol\n",
    "def GaussianCalc(X):\n",
    "    ave = jnp.mean(X)\n",
    "    std = jnp.std(X)\n",
    "    return 1/(std*jnp.sqrt(2*jnp.pi))*jnp.exp(-0.5*((X-ave)/std)**2)\n",
    "def removeOutliers(X, Y, error,threshold=2):\n",
    "    ave = jnp.mean(error)\n",
    "    std = jnp.std(error)\n",
    "    X_new = []\n",
    "    Y_new = []\n",
    "    counter = 0\n",
    "    for i in range(len(error)):\n",
    "        if error[i] < threshold*std and error[i] > -threshold*std:\n",
    "            counter+=1\n",
    "            X_new.append(X[i])\n",
    "            Y_new.append(Y[i])\n",
    "    return jnp.array(X_new), jnp.array(Y_new)\n",
    "def weighted_loss(params, X, Y, error):\n",
    "    weighted_error = GaussianCalc(error)\n",
    "    predictions = predict(params, X)\n",
    "    return jnp.mean((predictions - Y) ** 2 * weighted_error)\n",
    "grad_weighted_loss = jit(grad(weighted_loss))\n",
    "hessian_weighted_loss = hessian(weighted_loss)\n",
    "def newton_method_weighted(X, Y, num_iterations=10, tol=1e-6):\n",
    "    params = np.zeros(Degree + 1)\n",
    "    for i in range(num_iterations):\n",
    "        error = Y - predict(params,X)\n",
    "        grad_weighted_l = grad_weighted_loss(params, X, Y,error)\n",
    "        hess_weighted_l = hessian_weighted_loss(params, X, Y,error)\n",
    "        params_new = params - jnp.linalg.solve(hess_weighted_l, grad_weighted_l)\n",
    "        params = params_new\n",
    "    return params\n",
    "def showNewton_weighted(X, Y,error):\n",
    "    params = newton_method_weighted(X, Y, 10,error)\n",
    "    X_fit = jnp.linspace(min(X), max(X), 100)\n",
    "    Y_fit = predict(params, X_fit)\n",
    "    return X_fit,Y_fit,error\n",
    "from sklearn.metrics import mean_squared_error\n",
    "def plot_and_calculate_rmse(plot_config1, plot_config2, title):\n",
    "    rmse = np.sqrt(mean_squared_error(plot_config1.y, plot_config2.y))\n",
    "    return rmse"
   ],
   "metadata": {
    "collapsed": false,
    "ExecuteTime": {
     "end_time": "2024-08-14T04:00:50.697746Z",
     "start_time": "2024-08-14T04:00:50.597745Z"
    }
   },
   "id": "a6e9880d0fbac585",
   "execution_count": 105
  },
  {
   "cell_type": "code",
   "outputs": [
    {
     "data": {
      "text/plain": "                    Root Mean Square Error\nWith Outliers                    14.892470\nOutliers Removed 1                1.946028\nOutliers Removed 2             1585.532471\nOutliers Removed 3                1.996939\nWeighted Loss                     4.594171",
      "text/html": "<div>\n<style scoped>\n    .dataframe tbody tr th:only-of-type {\n        vertical-align: middle;\n    }\n\n    .dataframe tbody tr th {\n        vertical-align: top;\n    }\n\n    .dataframe thead th {\n        text-align: right;\n    }\n</style>\n<table border=\"1\" class=\"dataframe\">\n  <thead>\n    <tr style=\"text-align: right;\">\n      <th></th>\n      <th>Root Mean Square Error</th>\n    </tr>\n  </thead>\n  <tbody>\n    <tr>\n      <th>With Outliers</th>\n      <td>14.892470</td>\n    </tr>\n    <tr>\n      <th>Outliers Removed 1</th>\n      <td>1.946028</td>\n    </tr>\n    <tr>\n      <th>Outliers Removed 2</th>\n      <td>1585.532471</td>\n    </tr>\n    <tr>\n      <th>Outliers Removed 3</th>\n      <td>1.996939</td>\n    </tr>\n    <tr>\n      <th>Weighted Loss</th>\n      <td>4.594171</td>\n    </tr>\n  </tbody>\n</table>\n</div>"
     },
     "execution_count": 106,
     "metadata": {},
     "output_type": "execute_result"
    }
   ],
   "source": [
    "X_ol = AddOutliers(X,Y)[0]\n",
    "Y_ol = AddOutliers(X,Y)[1]\n",
    "X_ol_fit,Y_ol_fit,error_ol_fit = showNewton(X_ol,Y_ol)\n",
    "X_new2, Y_new2 = removeOutliers(X_ol, Y_ol, error_ol_fit,2)\n",
    "X_ol_removed_fit2,Y_ol_removed_fit2,error_ol_removed_fit2 = showNewton(X_new2,Y_new2)\n",
    "X_new1, Y_new1 = removeOutliers(X_ol, Y_ol, error_ol_fit,1)\n",
    "X_ol_removed_fit1,Y_ol_removed_fit1,error_ol_removed_fit1 = showNewton(X_new1,Y_new1)\n",
    "X_new3, Y_new3 = removeOutliers(X_ol, Y_ol, error_ol_fit,3)\n",
    "X_ol_removed_fit3,Y_ol_removed_fit3,error_ol_removed_fit3 = showNewton(X_new3,Y_new3)\n",
    "X_weighted_fit,Y_weighted_fit,error_ol_weighted_fit = showNewton_weighted(X_ol,Y_ol,error_ol_fit)\n",
    "# Function to calculate RMSE\n",
    "def calculate_rmse(y_true, y_pred):\n",
    "    return jnp.mean((y_true - y_pred) ** 2)\n",
    "\n",
    "# Generate a common set of X values for comparison\n",
    "X_comp = jnp.linspace(min(X), max(X), 100)\n",
    "\n",
    "# Compute RMSE for each fitted curve\n",
    "rmse_ol = float(calculate_rmse(Y_org, Y_ol_fit))\n",
    "rmse_ol_removed2 = float(calculate_rmse(Y_org, Y_ol_removed_fit2))\n",
    "rmse_ol_removed1 = float(calculate_rmse(Y_org, Y_ol_removed_fit1))\n",
    "rmse_ol_removed3 = float(calculate_rmse(Y_org, Y_ol_removed_fit3))\n",
    "rmse_ol_weighted = float(calculate_rmse(Y_org, Y_weighted_fit))\n",
    "import pandas as pd\n",
    "data = {'Root Mean Square Error': [rmse_ol, rmse_ol_removed1, rmse_ol_removed2, rmse_ol_removed3, rmse_ol_weighted]}\n",
    "df = pd.DataFrame(data, index=[\n",
    "    'With Outliers',\n",
    "    'Outliers Removed 1',\n",
    "    'Outliers Removed 2',\n",
    "    'Outliers Removed 3',\n",
    "    'Weighted Loss'\n",
    "])\n",
    "df"
   ],
   "metadata": {
    "collapsed": false,
    "ExecuteTime": {
     "end_time": "2024-08-14T04:00:54.524784Z",
     "start_time": "2024-08-14T04:00:50.697900Z"
    }
   },
   "id": "7be653fa5a318cb",
   "execution_count": 106
  }
 ],
 "metadata": {
  "kernelspec": {
   "display_name": "Python 3",
   "language": "python",
   "name": "python3"
  },
  "language_info": {
   "codemirror_mode": {
    "name": "ipython",
    "version": 2
   },
   "file_extension": ".py",
   "mimetype": "text/x-python",
   "name": "python",
   "nbconvert_exporter": "python",
   "pygments_lexer": "ipython2",
   "version": "2.7.6"
  }
 },
 "nbformat": 4,
 "nbformat_minor": 5
}
